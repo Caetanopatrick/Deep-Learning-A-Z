{
  "nbformat": 4,
  "nbformat_minor": 0,
  "metadata": {
    "colab": {
      "name": "Cópia de AutoEncoders.ipynb",
      "provenance": [],
      "collapsed_sections": [],
      "toc_visible": true
    },
    "kernelspec": {
      "name": "python3",
      "display_name": "Python 3"
    },
    "accelerator": "GPU"
  },
  "cells": [
    {
      "cell_type": "markdown",
      "metadata": {
        "id": "K4f4JG1gdKqj"
      },
      "source": [
        "#AutoEncoders"
      ]
    },
    {
      "cell_type": "markdown",
      "metadata": {
        "id": "1jbiqOK7dLGG"
      },
      "source": [
        "##Downloading the dataset"
      ]
    },
    {
      "cell_type": "markdown",
      "metadata": {
        "id": "XL5MEkLcfRD2"
      },
      "source": [
        "###ML-100K"
      ]
    },
    {
      "cell_type": "code",
      "metadata": {
        "id": "rjOPzue7FCXJ",
        "colab": {
          "base_uri": "https://localhost:8080/"
        },
        "outputId": "df959073-5cb5-42dc-92c1-a29ac7437b0a"
      },
      "source": [
        "!wget \"http://files.grouplens.org/datasets/movielens/ml-100k.zip\"\n",
        "!unzip ml-100k.zip\n",
        "!ls"
      ],
      "execution_count": 2,
      "outputs": [
        {
          "output_type": "stream",
          "text": [
            "--2021-01-13 16:55:16--  http://files.grouplens.org/datasets/movielens/ml-100k.zip\n",
            "Resolving files.grouplens.org (files.grouplens.org)... 128.101.65.152\n",
            "Connecting to files.grouplens.org (files.grouplens.org)|128.101.65.152|:80... connected.\n",
            "HTTP request sent, awaiting response... 200 OK\n",
            "Length: 4924029 (4.7M) [application/zip]\n",
            "Saving to: ‘ml-100k.zip’\n",
            "\n",
            "ml-100k.zip         100%[===================>]   4.70M  12.5MB/s    in 0.4s    \n",
            "\n",
            "2021-01-13 16:55:16 (12.5 MB/s) - ‘ml-100k.zip’ saved [4924029/4924029]\n",
            "\n",
            "Archive:  ml-100k.zip\n",
            "   creating: ml-100k/\n",
            "  inflating: ml-100k/allbut.pl       \n",
            "  inflating: ml-100k/mku.sh          \n",
            "  inflating: ml-100k/README          \n",
            "  inflating: ml-100k/u.data          \n",
            "  inflating: ml-100k/u.genre         \n",
            "  inflating: ml-100k/u.info          \n",
            "  inflating: ml-100k/u.item          \n",
            "  inflating: ml-100k/u.occupation    \n",
            "  inflating: ml-100k/u.user          \n",
            "  inflating: ml-100k/u1.base         \n",
            "  inflating: ml-100k/u1.test         \n",
            "  inflating: ml-100k/u2.base         \n",
            "  inflating: ml-100k/u2.test         \n",
            "  inflating: ml-100k/u3.base         \n",
            "  inflating: ml-100k/u3.test         \n",
            "  inflating: ml-100k/u4.base         \n",
            "  inflating: ml-100k/u4.test         \n",
            "  inflating: ml-100k/u5.base         \n",
            "  inflating: ml-100k/u5.test         \n",
            "  inflating: ml-100k/ua.base         \n",
            "  inflating: ml-100k/ua.test         \n",
            "  inflating: ml-100k/ub.base         \n",
            "  inflating: ml-100k/ub.test         \n",
            "ml-100k  ml-100k.zip  sample_data\n"
          ],
          "name": "stdout"
        }
      ]
    },
    {
      "cell_type": "markdown",
      "metadata": {
        "id": "9Xis6ldDfTs6"
      },
      "source": [
        "###ML-1M"
      ]
    },
    {
      "cell_type": "code",
      "metadata": {
        "id": "LOly1yfAfTjd",
        "colab": {
          "base_uri": "https://localhost:8080/"
        },
        "outputId": "fc33790c-6d8e-484a-d1fc-0d49cd985915"
      },
      "source": [
        "!wget \"http://files.grouplens.org/datasets/movielens/ml-1m.zip\"\n",
        "!unzip ml-1m.zip\n",
        "!ls"
      ],
      "execution_count": 3,
      "outputs": [
        {
          "output_type": "stream",
          "text": [
            "--2021-01-13 16:55:17--  http://files.grouplens.org/datasets/movielens/ml-1m.zip\n",
            "Resolving files.grouplens.org (files.grouplens.org)... 128.101.65.152\n",
            "Connecting to files.grouplens.org (files.grouplens.org)|128.101.65.152|:80... connected.\n",
            "HTTP request sent, awaiting response... 200 OK\n",
            "Length: 5917549 (5.6M) [application/zip]\n",
            "Saving to: ‘ml-1m.zip’\n",
            "\n",
            "ml-1m.zip           100%[===================>]   5.64M  14.9MB/s    in 0.4s    \n",
            "\n",
            "2021-01-13 16:55:17 (14.9 MB/s) - ‘ml-1m.zip’ saved [5917549/5917549]\n",
            "\n",
            "Archive:  ml-1m.zip\n",
            "   creating: ml-1m/\n",
            "  inflating: ml-1m/movies.dat        \n",
            "  inflating: ml-1m/ratings.dat       \n",
            "  inflating: ml-1m/README            \n",
            "  inflating: ml-1m/users.dat         \n",
            "ml-100k  ml-100k.zip  ml-1m  ml-1m.zip\tsample_data\n"
          ],
          "name": "stdout"
        }
      ]
    },
    {
      "cell_type": "markdown",
      "metadata": {
        "id": "EOBJ8UCXdY0g"
      },
      "source": [
        "##Importing the libraries"
      ]
    },
    {
      "cell_type": "code",
      "metadata": {
        "id": "_LvGeU1CeCtg"
      },
      "source": [
        "import numpy as np\n",
        "import pandas as pd\n",
        "import torch\n",
        "import torch.nn as nn\n",
        "import torch.nn.parallel\n",
        "import torch.optim as optim\n",
        "import torch.utils.data\n",
        "from torch.autograd import Variable"
      ],
      "execution_count": 4,
      "outputs": []
    },
    {
      "cell_type": "markdown",
      "metadata": {
        "id": "yTIbE2tkdkwP"
      },
      "source": [
        "## Preparing the training set and the test set\n"
      ]
    },
    {
      "cell_type": "code",
      "metadata": {
        "id": "2usLKJBEgPE2"
      },
      "source": [
        "training_set = pd.read_csv('ml-100k/u1.base', delimiter = '\\t')\n",
        "training_set = np.array(training_set, dtype = 'int')\n",
        "test_set = pd.read_csv('ml-100k/u1.test', delimiter = '\\t')\n",
        "test_set = np.array(test_set, dtype = 'int')"
      ],
      "execution_count": 6,
      "outputs": []
    },
    {
      "cell_type": "markdown",
      "metadata": {
        "id": "zCf8HjSydk4s"
      },
      "source": [
        "## Getting the number of users and movies\n"
      ]
    },
    {
      "cell_type": "code",
      "metadata": {
        "id": "gPaGZqdniC5m"
      },
      "source": [
        "nb_users = int(max(max(training_set[:, 0], ), max(test_set[:, 0])))\n",
        "nb_movies = int(max(max(training_set[:, 1], ), max(test_set[:, 1])))"
      ],
      "execution_count": 7,
      "outputs": []
    },
    {
      "cell_type": "markdown",
      "metadata": {
        "id": "J-w4-hVidlAm"
      },
      "source": [
        "## Converting the data into an array with users in lines and movies in columns\n"
      ]
    },
    {
      "cell_type": "code",
      "metadata": {
        "id": "-wASs2YFiDaa"
      },
      "source": [
        "def convert(data):\n",
        "  new_data = []\n",
        "  for id_users in range(1, nb_users + 1):\n",
        "    id_movies = data[:, 1] [data[:, 0] == id_users]\n",
        "    id_ratings = data[:, 2] [data[:, 0] == id_users]\n",
        "    ratings = np.zeros(nb_movies)\n",
        "    ratings[id_movies - 1] = id_ratings\n",
        "    new_data.append(list(ratings))\n",
        "  return new_data\n",
        "training_set = convert(training_set)\n",
        "test_set = convert(test_set)"
      ],
      "execution_count": 8,
      "outputs": []
    },
    {
      "cell_type": "markdown",
      "metadata": {
        "id": "AMmhuUpldlHo"
      },
      "source": [
        "## Converting the data into Torch tensors\n"
      ]
    },
    {
      "cell_type": "code",
      "metadata": {
        "id": "TwD-KD8yiEEw"
      },
      "source": [
        "training_set = torch.FloatTensor(training_set)\n",
        "test_set = torch.FloatTensor(test_set)"
      ],
      "execution_count": 9,
      "outputs": []
    },
    {
      "cell_type": "markdown",
      "metadata": {
        "id": "6kkL8NkkdlZj"
      },
      "source": [
        "## Creating the architecture of the Neural Network\n"
      ]
    },
    {
      "cell_type": "code",
      "metadata": {
        "id": "RJ21HYtGogll"
      },
      "source": [
        "class SAE(nn.Module):\r\n",
        "  def __init__(self, ):\r\n",
        "    super(SAE, self).__init__()\r\n",
        "    self.fc1 = nn.Linear(nb_movies, 20)\r\n",
        "    self.fc2 = nn.Linear(20, 10)\r\n",
        "    self.fc3 = nn.Linear(10, 20)\r\n",
        "    self.fc4 = nn.Linear(20, nb_movies)\r\n",
        "    self.activation = nn.Sigmoid()\r\n",
        "  def forward(self, x):\r\n",
        "    x = self.activation(self.fc1(x))\r\n",
        "    x = self.activation(self.fc2(x))\r\n",
        "    x = self.activation(self.fc3(x))\r\n",
        "    x = self.fc4(x)\r\n",
        "    return x\r\n",
        "\r\n",
        "sae = SAE()\r\n",
        "criterion = nn.MSELoss()\r\n",
        "optimizer = optim.RMSprop(sae.parameters(), lr= 0.01, weight_decay = 0.5)\r\n"
      ],
      "execution_count": 11,
      "outputs": []
    },
    {
      "cell_type": "markdown",
      "metadata": {
        "id": "7gy59alAdloL"
      },
      "source": [
        "## Training the SAE\n"
      ]
    },
    {
      "cell_type": "code",
      "metadata": {
        "colab": {
          "base_uri": "https://localhost:8080/"
        },
        "id": "yGsqfKsBr5lw",
        "outputId": "def1ef44-12a6-4880-ed8f-f7b7606fb2d9"
      },
      "source": [
        "nb_epoch = 200\r\n",
        "for epoch in range(1, nb_epoch + 1):\r\n",
        "  train_loss = 0\r\n",
        "  s = 0.\r\n",
        "  for id_user in range(nb_users):\r\n",
        "    input = Variable(training_set[id_user]).unsqueeze(0)\r\n",
        "    target = input.clone()\r\n",
        "    if torch.sum(target.data > 0) > 0:\r\n",
        "      output = sae(input)\r\n",
        "      target.require_grad = False\r\n",
        "      output[target == 0] = 0\r\n",
        "      loss = criterion(output, target)\r\n",
        "      mean_corrector = nb_movies/float(torch.sum(target.data> 0) + 1e-10)\r\n",
        "      loss.backward()\r\n",
        "      train_loss += np.sqrt(loss.data*mean_corrector)\r\n",
        "      s += 1.\r\n",
        "      optimizer.step()\r\n",
        "  print('epoch: ' +str(epoch)+ \" loss: \" +str(train_loss/s))"
      ],
      "execution_count": 14,
      "outputs": [
        {
          "output_type": "stream",
          "text": [
            "epoch: 1 loss: tensor(1.7655)\n",
            "epoch: 2 loss: tensor(1.0966)\n",
            "epoch: 3 loss: tensor(1.0533)\n",
            "epoch: 4 loss: tensor(1.0383)\n",
            "epoch: 5 loss: tensor(1.0311)\n",
            "epoch: 6 loss: tensor(1.0266)\n",
            "epoch: 7 loss: tensor(1.0239)\n",
            "epoch: 8 loss: tensor(1.0219)\n",
            "epoch: 9 loss: tensor(1.0209)\n",
            "epoch: 10 loss: tensor(1.0198)\n",
            "epoch: 11 loss: tensor(1.0189)\n",
            "epoch: 12 loss: tensor(1.0184)\n",
            "epoch: 13 loss: tensor(1.0178)\n",
            "epoch: 14 loss: tensor(1.0175)\n",
            "epoch: 15 loss: tensor(1.0171)\n",
            "epoch: 16 loss: tensor(1.0170)\n",
            "epoch: 17 loss: tensor(1.0167)\n",
            "epoch: 18 loss: tensor(1.0168)\n",
            "epoch: 19 loss: tensor(1.0164)\n",
            "epoch: 20 loss: tensor(1.0161)\n",
            "epoch: 21 loss: tensor(1.0161)\n",
            "epoch: 22 loss: tensor(1.0160)\n",
            "epoch: 23 loss: tensor(1.0160)\n",
            "epoch: 24 loss: tensor(1.0156)\n",
            "epoch: 25 loss: tensor(1.0158)\n",
            "epoch: 26 loss: tensor(1.0157)\n",
            "epoch: 27 loss: tensor(1.0155)\n",
            "epoch: 28 loss: tensor(1.0148)\n",
            "epoch: 29 loss: tensor(1.0128)\n",
            "epoch: 30 loss: tensor(1.0115)\n",
            "epoch: 31 loss: tensor(1.0097)\n",
            "epoch: 32 loss: tensor(1.0094)\n",
            "epoch: 33 loss: tensor(1.0053)\n",
            "epoch: 34 loss: tensor(1.0052)\n",
            "epoch: 35 loss: tensor(1.0010)\n",
            "epoch: 36 loss: tensor(0.9994)\n",
            "epoch: 37 loss: tensor(0.9973)\n",
            "epoch: 38 loss: tensor(0.9978)\n",
            "epoch: 39 loss: tensor(0.9948)\n",
            "epoch: 40 loss: tensor(0.9930)\n",
            "epoch: 41 loss: tensor(0.9916)\n",
            "epoch: 42 loss: tensor(0.9917)\n",
            "epoch: 43 loss: tensor(0.9903)\n",
            "epoch: 44 loss: tensor(0.9925)\n",
            "epoch: 45 loss: tensor(0.9876)\n",
            "epoch: 46 loss: tensor(0.9895)\n",
            "epoch: 47 loss: tensor(0.9853)\n",
            "epoch: 48 loss: tensor(0.9840)\n",
            "epoch: 49 loss: tensor(0.9821)\n",
            "epoch: 50 loss: tensor(0.9835)\n",
            "epoch: 51 loss: tensor(0.9781)\n",
            "epoch: 52 loss: tensor(0.9787)\n",
            "epoch: 53 loss: tensor(0.9736)\n",
            "epoch: 54 loss: tensor(0.9718)\n",
            "epoch: 55 loss: tensor(0.9684)\n",
            "epoch: 56 loss: tensor(0.9698)\n",
            "epoch: 57 loss: tensor(0.9741)\n",
            "epoch: 58 loss: tensor(0.9656)\n",
            "epoch: 59 loss: tensor(0.9636)\n",
            "epoch: 60 loss: tensor(0.9650)\n",
            "epoch: 61 loss: tensor(0.9620)\n",
            "epoch: 62 loss: tensor(0.9640)\n",
            "epoch: 63 loss: tensor(0.9598)\n",
            "epoch: 64 loss: tensor(0.9600)\n",
            "epoch: 65 loss: tensor(0.9576)\n",
            "epoch: 66 loss: tensor(0.9567)\n",
            "epoch: 67 loss: tensor(0.9558)\n",
            "epoch: 68 loss: tensor(0.9638)\n",
            "epoch: 69 loss: tensor(0.9669)\n",
            "epoch: 70 loss: tensor(0.9615)\n",
            "epoch: 71 loss: tensor(0.9565)\n",
            "epoch: 72 loss: tensor(0.9659)\n",
            "epoch: 73 loss: tensor(0.9668)\n",
            "epoch: 74 loss: tensor(0.9615)\n",
            "epoch: 75 loss: tensor(0.9583)\n",
            "epoch: 76 loss: tensor(0.9567)\n",
            "epoch: 77 loss: tensor(0.9523)\n",
            "epoch: 78 loss: tensor(0.9607)\n",
            "epoch: 79 loss: tensor(0.9619)\n",
            "epoch: 80 loss: tensor(0.9586)\n",
            "epoch: 81 loss: tensor(0.9523)\n",
            "epoch: 82 loss: tensor(0.9546)\n",
            "epoch: 83 loss: tensor(0.9516)\n",
            "epoch: 84 loss: tensor(0.9520)\n",
            "epoch: 85 loss: tensor(0.9491)\n",
            "epoch: 86 loss: tensor(0.9516)\n",
            "epoch: 87 loss: tensor(0.9461)\n",
            "epoch: 88 loss: tensor(0.9480)\n",
            "epoch: 89 loss: tensor(0.9441)\n",
            "epoch: 90 loss: tensor(0.9453)\n",
            "epoch: 91 loss: tensor(0.9437)\n",
            "epoch: 92 loss: tensor(0.9440)\n",
            "epoch: 93 loss: tensor(0.9428)\n",
            "epoch: 94 loss: tensor(0.9424)\n",
            "epoch: 95 loss: tensor(0.9445)\n",
            "epoch: 96 loss: tensor(0.9436)\n",
            "epoch: 97 loss: tensor(0.9417)\n",
            "epoch: 98 loss: tensor(0.9409)\n",
            "epoch: 99 loss: tensor(0.9393)\n",
            "epoch: 100 loss: tensor(0.9406)\n",
            "epoch: 101 loss: tensor(0.9384)\n",
            "epoch: 102 loss: tensor(0.9382)\n",
            "epoch: 103 loss: tensor(0.9380)\n",
            "epoch: 104 loss: tensor(0.9373)\n",
            "epoch: 105 loss: tensor(0.9374)\n",
            "epoch: 106 loss: tensor(0.9375)\n",
            "epoch: 107 loss: tensor(0.9364)\n",
            "epoch: 108 loss: tensor(0.9367)\n",
            "epoch: 109 loss: tensor(0.9357)\n",
            "epoch: 110 loss: tensor(0.9358)\n",
            "epoch: 111 loss: tensor(0.9348)\n",
            "epoch: 112 loss: tensor(0.9346)\n",
            "epoch: 113 loss: tensor(0.9343)\n",
            "epoch: 114 loss: tensor(0.9339)\n",
            "epoch: 115 loss: tensor(0.9336)\n",
            "epoch: 116 loss: tensor(0.9343)\n",
            "epoch: 117 loss: tensor(0.9330)\n",
            "epoch: 118 loss: tensor(0.9328)\n",
            "epoch: 119 loss: tensor(0.9318)\n",
            "epoch: 120 loss: tensor(0.9327)\n",
            "epoch: 121 loss: tensor(0.9317)\n",
            "epoch: 122 loss: tensor(0.9317)\n",
            "epoch: 123 loss: tensor(0.9303)\n",
            "epoch: 124 loss: tensor(0.9308)\n",
            "epoch: 125 loss: tensor(0.9297)\n",
            "epoch: 126 loss: tensor(0.9303)\n",
            "epoch: 127 loss: tensor(0.9299)\n",
            "epoch: 128 loss: tensor(0.9300)\n",
            "epoch: 129 loss: tensor(0.9289)\n",
            "epoch: 130 loss: tensor(0.9292)\n",
            "epoch: 131 loss: tensor(0.9282)\n",
            "epoch: 132 loss: tensor(0.9283)\n",
            "epoch: 133 loss: tensor(0.9275)\n",
            "epoch: 134 loss: tensor(0.9277)\n",
            "epoch: 135 loss: tensor(0.9266)\n",
            "epoch: 136 loss: tensor(0.9271)\n",
            "epoch: 137 loss: tensor(0.9260)\n",
            "epoch: 138 loss: tensor(0.9266)\n",
            "epoch: 139 loss: tensor(0.9257)\n",
            "epoch: 140 loss: tensor(0.9260)\n",
            "epoch: 141 loss: tensor(0.9251)\n",
            "epoch: 142 loss: tensor(0.9255)\n",
            "epoch: 143 loss: tensor(0.9246)\n",
            "epoch: 144 loss: tensor(0.9253)\n",
            "epoch: 145 loss: tensor(0.9241)\n",
            "epoch: 146 loss: tensor(0.9247)\n",
            "epoch: 147 loss: tensor(0.9236)\n",
            "epoch: 148 loss: tensor(0.9243)\n",
            "epoch: 149 loss: tensor(0.9228)\n",
            "epoch: 150 loss: tensor(0.9235)\n",
            "epoch: 151 loss: tensor(0.9228)\n",
            "epoch: 152 loss: tensor(0.9231)\n",
            "epoch: 153 loss: tensor(0.9224)\n",
            "epoch: 154 loss: tensor(0.9230)\n",
            "epoch: 155 loss: tensor(0.9217)\n",
            "epoch: 156 loss: tensor(0.9222)\n",
            "epoch: 157 loss: tensor(0.9216)\n",
            "epoch: 158 loss: tensor(0.9219)\n",
            "epoch: 159 loss: tensor(0.9210)\n",
            "epoch: 160 loss: tensor(0.9219)\n",
            "epoch: 161 loss: tensor(0.9211)\n",
            "epoch: 162 loss: tensor(0.9215)\n",
            "epoch: 163 loss: tensor(0.9202)\n",
            "epoch: 164 loss: tensor(0.9203)\n",
            "epoch: 165 loss: tensor(0.9196)\n",
            "epoch: 166 loss: tensor(0.9200)\n",
            "epoch: 167 loss: tensor(0.9192)\n",
            "epoch: 168 loss: tensor(0.9197)\n",
            "epoch: 169 loss: tensor(0.9190)\n",
            "epoch: 170 loss: tensor(0.9193)\n",
            "epoch: 171 loss: tensor(0.9185)\n",
            "epoch: 172 loss: tensor(0.9194)\n",
            "epoch: 173 loss: tensor(0.9187)\n",
            "epoch: 174 loss: tensor(0.9187)\n",
            "epoch: 175 loss: tensor(0.9177)\n",
            "epoch: 176 loss: tensor(0.9183)\n",
            "epoch: 177 loss: tensor(0.9174)\n",
            "epoch: 178 loss: tensor(0.9177)\n",
            "epoch: 179 loss: tensor(0.9172)\n",
            "epoch: 180 loss: tensor(0.9177)\n",
            "epoch: 181 loss: tensor(0.9169)\n",
            "epoch: 182 loss: tensor(0.9174)\n",
            "epoch: 183 loss: tensor(0.9164)\n",
            "epoch: 184 loss: tensor(0.9166)\n",
            "epoch: 185 loss: tensor(0.9159)\n",
            "epoch: 186 loss: tensor(0.9168)\n",
            "epoch: 187 loss: tensor(0.9161)\n",
            "epoch: 188 loss: tensor(0.9167)\n",
            "epoch: 189 loss: tensor(0.9159)\n",
            "epoch: 190 loss: tensor(0.9164)\n",
            "epoch: 191 loss: tensor(0.9156)\n",
            "epoch: 192 loss: tensor(0.9160)\n",
            "epoch: 193 loss: tensor(0.9155)\n",
            "epoch: 194 loss: tensor(0.9160)\n",
            "epoch: 195 loss: tensor(0.9152)\n",
            "epoch: 196 loss: tensor(0.9157)\n",
            "epoch: 197 loss: tensor(0.9149)\n",
            "epoch: 198 loss: tensor(0.9153)\n",
            "epoch: 199 loss: tensor(0.9147)\n",
            "epoch: 200 loss: tensor(0.9153)\n"
          ],
          "name": "stdout"
        }
      ]
    },
    {
      "cell_type": "markdown",
      "metadata": {
        "id": "Bak5uc8gd-gX"
      },
      "source": [
        "## Testing the SAE\n"
      ]
    },
    {
      "cell_type": "code",
      "metadata": {
        "colab": {
          "base_uri": "https://localhost:8080/"
        },
        "id": "URkEfgSRxDRp",
        "outputId": "93cea65c-6ec7-403c-d559-e9e3f48e0c83"
      },
      "source": [
        "test_loss = 0\r\n",
        "s = 0.\r\n",
        "for id_user in range(nb_users):\r\n",
        "    input = Variable(training_set[id_user]).unsqueeze(0)\r\n",
        "    target = Variable(test_set[id_user])\r\n",
        "    if torch.sum(target.data > 0) > 0:\r\n",
        "      output = sae(input)\r\n",
        "      target.require_grad = False\r\n",
        "      output[(target == 0).unsqueeze(0)] = 0\r\n",
        "      loss = criterion(output, target)\r\n",
        "      mean_corrector = nb_movies/float(torch.sum(target.data> 0) + 1e-10)\r\n",
        "      test_loss += np.sqrt(loss.data*mean_corrector)\r\n",
        "      s += 1.\r\n",
        "\r\n",
        "print(\" loss: \" +str(test_loss/s))"
      ],
      "execution_count": 18,
      "outputs": [
        {
          "output_type": "stream",
          "text": [
            "/usr/local/lib/python3.6/dist-packages/torch/nn/modules/loss.py:446: UserWarning: Using a target size (torch.Size([1682])) that is different to the input size (torch.Size([1, 1682])). This will likely lead to incorrect results due to broadcasting. Please ensure they have the same size.\n",
            "  return F.mse_loss(input, target, reduction=self.reduction)\n"
          ],
          "name": "stderr"
        },
        {
          "output_type": "stream",
          "text": [
            " loss: tensor(0.9548)\n"
          ],
          "name": "stdout"
        }
      ]
    },
    {
      "cell_type": "code",
      "metadata": {
        "id": "boYrJO8QyEOv"
      },
      "source": [
        ""
      ],
      "execution_count": null,
      "outputs": []
    }
  ]
}
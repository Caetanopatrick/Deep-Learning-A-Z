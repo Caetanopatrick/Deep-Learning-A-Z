{
  "nbformat": 4,
  "nbformat_minor": 0,
  "metadata": {
    "colab": {
      "name": "Cópia de Boltzmann Machine.ipynb",
      "provenance": [],
      "collapsed_sections": [],
      "toc_visible": true
    },
    "kernelspec": {
      "name": "python3",
      "display_name": "Python 3"
    }
  },
  "cells": [
    {
      "cell_type": "markdown",
      "metadata": {
        "id": "K4f4JG1gdKqj"
      },
      "source": [
        "#Boltzmann Machine"
      ]
    },
    {
      "cell_type": "markdown",
      "metadata": {
        "id": "1jbiqOK7dLGG"
      },
      "source": [
        "##Downloading the dataset"
      ]
    },
    {
      "cell_type": "markdown",
      "metadata": {
        "id": "XL5MEkLcfRD2"
      },
      "source": [
        "###ML-100K"
      ]
    },
    {
      "cell_type": "code",
      "metadata": {
        "id": "rjOPzue7FCXJ",
        "colab": {
          "base_uri": "https://localhost:8080/"
        },
        "outputId": "e2a21e33-87ae-4c73-b3eb-9ebd7b3acace"
      },
      "source": [
        "!wget \"http://files.grouplens.org/datasets/movielens/ml-100k.zip\"\n",
        "!unzip ml-100k.zip\n",
        "!ls"
      ],
      "execution_count": null,
      "outputs": [
        {
          "output_type": "stream",
          "text": [
            "--2021-01-13 14:00:20--  http://files.grouplens.org/datasets/movielens/ml-100k.zip\n",
            "Resolving files.grouplens.org (files.grouplens.org)... 128.101.65.152\n",
            "Connecting to files.grouplens.org (files.grouplens.org)|128.101.65.152|:80... connected.\n",
            "HTTP request sent, awaiting response... 200 OK\n",
            "Length: 4924029 (4.7M) [application/zip]\n",
            "Saving to: ‘ml-100k.zip.1’\n",
            "\n",
            "ml-100k.zip.1       100%[===================>]   4.70M  10.9MB/s    in 0.4s    \n",
            "\n",
            "2021-01-13 14:00:21 (10.9 MB/s) - ‘ml-100k.zip.1’ saved [4924029/4924029]\n",
            "\n",
            "Archive:  ml-100k.zip\n",
            "replace ml-100k/allbut.pl? [y]es, [n]o, [A]ll, [N]one, [r]ename: n\n",
            "replace ml-100k/mku.sh? [y]es, [n]o, [A]ll, [N]one, [r]ename: N\n",
            "ml-100k  ml-100k.zip  ml-100k.zip.1  ml-1m  ml-1m.zip  sample_data\n"
          ],
          "name": "stdout"
        }
      ]
    },
    {
      "cell_type": "markdown",
      "metadata": {
        "id": "9Xis6ldDfTs6"
      },
      "source": [
        "###ML-1M"
      ]
    },
    {
      "cell_type": "code",
      "metadata": {
        "id": "LOly1yfAfTjd",
        "colab": {
          "base_uri": "https://localhost:8080/"
        },
        "outputId": "36825d68-d6b6-4c23-ccba-3c1a6bbfbb41"
      },
      "source": [
        "!wget \"http://files.grouplens.org/datasets/movielens/ml-1m.zip\"\n",
        "!unzip ml-1m.zip\n",
        "!ls"
      ],
      "execution_count": null,
      "outputs": [
        {
          "output_type": "stream",
          "text": [
            "--2021-01-13 14:00:49--  http://files.grouplens.org/datasets/movielens/ml-1m.zip\n",
            "Resolving files.grouplens.org (files.grouplens.org)... 128.101.65.152\n",
            "Connecting to files.grouplens.org (files.grouplens.org)|128.101.65.152|:80... connected.\n",
            "HTTP request sent, awaiting response... 200 OK\n",
            "Length: 5917549 (5.6M) [application/zip]\n",
            "Saving to: ‘ml-1m.zip.1’\n",
            "\n",
            "ml-1m.zip.1         100%[===================>]   5.64M  12.9MB/s    in 0.4s    \n",
            "\n",
            "2021-01-13 14:00:49 (12.9 MB/s) - ‘ml-1m.zip.1’ saved [5917549/5917549]\n",
            "\n",
            "Archive:  ml-1m.zip\n",
            "replace ml-1m/movies.dat? [y]es, [n]o, [A]ll, [N]one, [r]ename: N\n",
            "ml-100k  ml-100k.zip  ml-100k.zip.1  ml-1m  ml-1m.zip  ml-1m.zip.1  sample_data\n"
          ],
          "name": "stdout"
        }
      ]
    },
    {
      "cell_type": "markdown",
      "metadata": {
        "id": "EOBJ8UCXdY0g"
      },
      "source": [
        "##Importing the libraries"
      ]
    },
    {
      "cell_type": "code",
      "metadata": {
        "id": "_LvGeU1CeCtg"
      },
      "source": [
        "import numpy as np\n",
        "import pandas as pd\n",
        "import torch\n",
        "import torch.nn as nn\n",
        "import torch.nn.parallel\n",
        "import torch.optim as optim\n",
        "import torch.utils.data\n",
        "from torch.autograd import Variable"
      ],
      "execution_count": null,
      "outputs": []
    },
    {
      "cell_type": "markdown",
      "metadata": {
        "id": "yTIbE2tkdkwP"
      },
      "source": [
        "## Preparing the training set and the test set\n"
      ]
    },
    {
      "cell_type": "code",
      "metadata": {
        "id": "2usLKJBEgPE2"
      },
      "source": [
        "training_set = pd.read_csv('ml-100k/u1.base', delimiter = '\\t')\n",
        "training_set = np.array(training_set, dtype = 'int')\n",
        "test_set = pd.read_csv('ml-100k/u1.test', delimiter = '\\t')\n",
        "test_set = np.array(test_set, dtype = 'int')"
      ],
      "execution_count": null,
      "outputs": []
    },
    {
      "cell_type": "markdown",
      "metadata": {
        "id": "zCf8HjSydk4s"
      },
      "source": [
        "## Getting the number of users and movies\n"
      ]
    },
    {
      "cell_type": "code",
      "metadata": {
        "id": "ZLteCgWVtSfR"
      },
      "source": [
        "nb_users = int(max(max(training_set[:, 0]), max(test_set[:, 0])))\r\n",
        "nb_movies = int(max(max(training_set[:, 1]), max(test_set[:, 1])))"
      ],
      "execution_count": null,
      "outputs": []
    },
    {
      "cell_type": "markdown",
      "metadata": {
        "id": "J-w4-hVidlAm"
      },
      "source": [
        "## Converting the data into an array with users in lines and movies in columns\n"
      ]
    },
    {
      "cell_type": "code",
      "metadata": {
        "id": "0ZK0c4U4wtCL"
      },
      "source": [
        "def convert(data):\r\n",
        "  new_data = []\r\n",
        "  for id_users in range(1, nb_users + 1):\r\n",
        "    id_movies = data[:, 1][data[:, 0] == id_users]\r\n",
        "    id_ratings = data[:, 2][data[:, 0] == id_users]\r\n",
        "    ratings = np.zeros(nb_movies)\r\n",
        "    ratings[id_movies - 1]   = id_ratings\r\n",
        "    new_data.append(list(ratings))\r\n",
        "  return new_data\r\n",
        "\r\n",
        "training_set = convert(training_set)\r\n",
        "test_set = convert(test_set)"
      ],
      "execution_count": null,
      "outputs": []
    },
    {
      "cell_type": "markdown",
      "metadata": {
        "id": "AMmhuUpldlHo"
      },
      "source": [
        "## Converting the data into Torch tensors\n"
      ]
    },
    {
      "cell_type": "code",
      "metadata": {
        "id": "MgdM-EC30TuJ"
      },
      "source": [
        "training_set = torch.FloatTensor(training_set)\r\n",
        "test_set = torch.FloatTensor(test_set)"
      ],
      "execution_count": null,
      "outputs": []
    },
    {
      "cell_type": "markdown",
      "metadata": {
        "id": "HIPruubGdlPW"
      },
      "source": [
        "## Converting the ratings into binary ratings 1 (Liked) or 0 (Not Liked)\n"
      ]
    },
    {
      "cell_type": "code",
      "metadata": {
        "id": "Q1pXPnNO3BZl"
      },
      "source": [
        "training_set[training_set == 0] = -1\r\n",
        "training_set[training_set == 1] = 0\r\n",
        "training_set[training_set == 2] = 0\r\n",
        "training_set[training_set == 3] = 1\r\n",
        "training_set[training_set == 4] = 1\r\n",
        "training_set[training_set == 5] = 1\r\n",
        "test_set[test_set == 0] = -1\r\n",
        "test_set[test_set == 1] = 0\r\n",
        "test_set[test_set == 2] = 0\r\n",
        "test_set[test_set == 3] = 1\r\n",
        "test_set[test_set == 4] = 1\r\n",
        "test_set[test_set == 5] = 1\r\n",
        "\r\n"
      ],
      "execution_count": null,
      "outputs": []
    },
    {
      "cell_type": "markdown",
      "metadata": {
        "id": "6kkL8NkkdlZj"
      },
      "source": [
        "## Creating the architecture of the Neural Network\n"
      ]
    },
    {
      "cell_type": "code",
      "metadata": {
        "id": "Mbq-TxKm4kyH"
      },
      "source": [
        "class RBM():\r\n",
        "  def __init__(self, nv, nh):\r\n",
        "    self.W = torch.randn(nh, nv)\r\n",
        "    self.a = torch.randn(1, nh)\r\n",
        "    self.b = torch.randn(1, nv)\r\n",
        "  def sample_h(self, x):\r\n",
        "    wx = torch.mm(x, self.W.t())\r\n",
        "    activation = wx + self.a.expand_as(wx)\r\n",
        "    p_h_given_v = torch.sigmoid(activation)\r\n",
        "    return p_h_given_v, torch.bernoulli(p_h_given_v)\r\n",
        "  def sample_v(self, y):\r\n",
        "    wy = torch.mm(y, self.W)\r\n",
        "    activation = wy + self.b.expand_as(wy)\r\n",
        "    p_v_given_h = torch.sigmoid(activation)\r\n",
        "    return p_v_given_h, torch.bernoulli(p_v_given_h)\r\n",
        "  def train(self, v0, vk, ph0, phk):\r\n",
        "    self.W += (torch.mm(v0.t(), ph0) - torch.mm(vk.t(), phk)).t()\r\n",
        "    self.b += torch.sum((v0-vk), 0)\r\n",
        "    self.a += torch.sum((ph0 -phk), 0)\r\n",
        "nv = len(training_set[0])\r\n",
        "nh = 100 \r\n",
        "batch_size = 100\r\n",
        "rbm = RBM(nv, nh)"
      ],
      "execution_count": null,
      "outputs": []
    },
    {
      "cell_type": "markdown",
      "metadata": {
        "id": "7gy59alAdloL"
      },
      "source": [
        "## Training the RBM\n"
      ]
    },
    {
      "cell_type": "code",
      "metadata": {
        "colab": {
          "base_uri": "https://localhost:8080/"
        },
        "id": "EBZHG35N-zWn",
        "outputId": "a554f4c7-13ec-4fb7-caf2-94670d60e37a"
      },
      "source": [
        "nb_epoch = 10\r\n",
        "for epoch in range(1, nb_epoch + 1):\r\n",
        "  train_loss = 0\r\n",
        "  s = 0.\r\n",
        "  for id_user in range(0, nb_users - batch_size, batch_size):\r\n",
        "    vk = training_set[id_user: id_user+batch_size]\r\n",
        "    v0 = training_set[id_user: id_user+batch_size]\r\n",
        "    ph0,_ = rbm.sample_h(v0)\r\n",
        "    for k in range(10):\r\n",
        "      _,hk = rbm.sample_h(vk)\r\n",
        "      _,vk = rbm.sample_v(hk)\r\n",
        "      vk[v0<0] = v0[v0<0]\r\n",
        "    phk,_ = rbm.sample_h(vk)\r\n",
        "    rbm.train(v0, vk, ph0, phk)\r\n",
        "    train_loss += torch.mean(torch.abs(v0[v0>0]-vk[v0>0]))\r\n",
        "    s += 1.\r\n",
        "  print('epoch: '+ str(epoch)+ ' loss: ' +str(train_loss/s))"
      ],
      "execution_count": null,
      "outputs": [
        {
          "output_type": "stream",
          "text": [
            "epoch: 1 loss: tensor(0.3131)\n",
            "epoch: 2 loss: tensor(0.1526)\n",
            "epoch: 3 loss: tensor(0.1394)\n",
            "epoch: 4 loss: tensor(0.1480)\n",
            "epoch: 5 loss: tensor(0.1473)\n",
            "epoch: 6 loss: tensor(0.1526)\n",
            "epoch: 7 loss: tensor(0.1479)\n",
            "epoch: 8 loss: tensor(0.1473)\n",
            "epoch: 9 loss: tensor(0.1466)\n",
            "epoch: 10 loss: tensor(0.1490)\n"
          ],
          "name": "stdout"
        }
      ]
    },
    {
      "cell_type": "markdown",
      "metadata": {
        "id": "Bak5uc8gd-gX"
      },
      "source": [
        "## Testing the RBM\n"
      ]
    },
    {
      "cell_type": "code",
      "metadata": {
        "colab": {
          "base_uri": "https://localhost:8080/"
        },
        "id": "rboXaOAWGMO5",
        "outputId": "daf51970-046a-4d7f-90c4-544ea8315211"
      },
      "source": [
        "\r\n",
        "\r\n",
        "test_loss = 0\r\n",
        "s = 0.\r\n",
        "for id_user in range(nb_users):\r\n",
        "  v = training_set[id_user: id_user+1]\r\n",
        "  vt = test_set[id_user: id_user+1]\r\n",
        "  if len(vt[vt>=0]) > 0:\r\n",
        "    _,h = rbm.sample_h(v)\r\n",
        "    _,v = rbm.sample_v(h)\r\n",
        "    test_loss += torch.mean(torch.abs(vt[vt>0]-v[vt>0]))\r\n",
        "    s += 1.\r\n",
        "print(' test loss: ' +str(test_loss/s))"
      ],
      "execution_count": null,
      "outputs": [
        {
          "output_type": "stream",
          "text": [
            " test loss: tensor(0.1741)\n"
          ],
          "name": "stdout"
        }
      ]
    },
    {
      "cell_type": "code",
      "metadata": {
        "id": "LsjwwdH9IDpt"
      },
      "source": [
        ""
      ],
      "execution_count": null,
      "outputs": []
    }
  ]
}